{
 "cells": [
  {
   "cell_type": "code",
   "execution_count": 1,
   "id": "748a349b",
   "metadata": {},
   "outputs": [],
   "source": [
    "import pandas as pd\n",
    "import numpy as np"
   ]
  },
  {
   "cell_type": "code",
   "execution_count": 5,
   "id": "f1cfe1e1",
   "metadata": {},
   "outputs": [
    {
     "name": "stdout",
     "output_type": "stream",
     "text": [
      "     ord no  purch_amt   ord date  customer id  salesman id\n",
      "0       NaN     270.65 2012-09-10         3001      5003.00\n",
      "1   70002.0      65.26        NaT         3001      5001.00\n",
      "2   70004.0     110.50 2012-08-17         3003          NaN\n",
      "3       NaN     948.50 2012-09-10         3002      5002.00\n",
      "4   70005.0    2400.60 2012-07-27         3001      5001.00\n",
      "5       NaN    5760.00 2012-09-10         3001      5001.00\n",
      "6   70010.0    1983.43 2012-10-10         3004          NaN\n",
      "7   70003.0    2480.40 2012-10-10         3003      5003.00\n",
      "8   70012.0     250.45 2012-06-27         3002      5002.00\n",
      "9       NaN      75.29 2012-08-17         3001      5003.00\n",
      "10      NaN     270.65 2012-09-10         3001      5003.00\n",
      "11  70002.0      65.26        NaT         3001      5001.01\n",
      "12  70004.0     110.50 2012-08-17         3003          NaN\n",
      "13      NaN     948.50 2012-09-10         3002      5002.00\n",
      "14  70006.0    2400.60 2012-07-27         3001      5001.00\n",
      "15      NaN    5760.00 2012-09-10         3001      5001.00\n",
      "16  70009.0    1983.43 2012-10-10         3004          NaN\n",
      "17  70008.0    2480.40 2012-10-10         3003      5003.00\n",
      "18  70011.0     250.45 2012-06-27         3002      5002.00\n",
      "19      NaN      75.29 2012-08-17         3001      5003.00\n",
      "20  70013.0    3045.60 2012-04-25         3001          NaN\n",
      "21  70007.0     150.50 2012-10-05         3002      5002.00\n"
     ]
    }
   ],
   "source": [
    "data = pd.read_excel(\"dataset.xlsx\")\n",
    "print(data)"
   ]
  },
  {
   "cell_type": "code",
   "execution_count": 6,
   "id": "8754f471",
   "metadata": {},
   "outputs": [
    {
     "data": {
      "text/html": [
       "<div>\n",
       "<style scoped>\n",
       "    .dataframe tbody tr th:only-of-type {\n",
       "        vertical-align: middle;\n",
       "    }\n",
       "\n",
       "    .dataframe tbody tr th {\n",
       "        vertical-align: top;\n",
       "    }\n",
       "\n",
       "    .dataframe thead th {\n",
       "        text-align: right;\n",
       "    }\n",
       "</style>\n",
       "<table border=\"1\" class=\"dataframe\">\n",
       "  <thead>\n",
       "    <tr style=\"text-align: right;\">\n",
       "      <th></th>\n",
       "      <th>ord no</th>\n",
       "      <th>purch_amt</th>\n",
       "      <th>ord date</th>\n",
       "      <th>customer id</th>\n",
       "      <th>salesman id</th>\n",
       "    </tr>\n",
       "  </thead>\n",
       "  <tbody>\n",
       "    <tr>\n",
       "      <th>4</th>\n",
       "      <td>70005.0</td>\n",
       "      <td>2400.60</td>\n",
       "      <td>2012-07-27</td>\n",
       "      <td>3001</td>\n",
       "      <td>5001.0</td>\n",
       "    </tr>\n",
       "    <tr>\n",
       "      <th>7</th>\n",
       "      <td>70003.0</td>\n",
       "      <td>2480.40</td>\n",
       "      <td>2012-10-10</td>\n",
       "      <td>3003</td>\n",
       "      <td>5003.0</td>\n",
       "    </tr>\n",
       "    <tr>\n",
       "      <th>8</th>\n",
       "      <td>70012.0</td>\n",
       "      <td>250.45</td>\n",
       "      <td>2012-06-27</td>\n",
       "      <td>3002</td>\n",
       "      <td>5002.0</td>\n",
       "    </tr>\n",
       "    <tr>\n",
       "      <th>14</th>\n",
       "      <td>70006.0</td>\n",
       "      <td>2400.60</td>\n",
       "      <td>2012-07-27</td>\n",
       "      <td>3001</td>\n",
       "      <td>5001.0</td>\n",
       "    </tr>\n",
       "    <tr>\n",
       "      <th>17</th>\n",
       "      <td>70008.0</td>\n",
       "      <td>2480.40</td>\n",
       "      <td>2012-10-10</td>\n",
       "      <td>3003</td>\n",
       "      <td>5003.0</td>\n",
       "    </tr>\n",
       "    <tr>\n",
       "      <th>18</th>\n",
       "      <td>70011.0</td>\n",
       "      <td>250.45</td>\n",
       "      <td>2012-06-27</td>\n",
       "      <td>3002</td>\n",
       "      <td>5002.0</td>\n",
       "    </tr>\n",
       "    <tr>\n",
       "      <th>21</th>\n",
       "      <td>70007.0</td>\n",
       "      <td>150.50</td>\n",
       "      <td>2012-10-05</td>\n",
       "      <td>3002</td>\n",
       "      <td>5002.0</td>\n",
       "    </tr>\n",
       "  </tbody>\n",
       "</table>\n",
       "</div>"
      ],
      "text/plain": [
       "     ord no  purch_amt   ord date  customer id  salesman id\n",
       "4   70005.0    2400.60 2012-07-27         3001       5001.0\n",
       "7   70003.0    2480.40 2012-10-10         3003       5003.0\n",
       "8   70012.0     250.45 2012-06-27         3002       5002.0\n",
       "14  70006.0    2400.60 2012-07-27         3001       5001.0\n",
       "17  70008.0    2480.40 2012-10-10         3003       5003.0\n",
       "18  70011.0     250.45 2012-06-27         3002       5002.0\n",
       "21  70007.0     150.50 2012-10-05         3002       5002.0"
      ]
     },
     "execution_count": 6,
     "metadata": {},
     "output_type": "execute_result"
    }
   ],
   "source": [
    "data.dropna()"
   ]
  },
  {
   "cell_type": "code",
   "execution_count": 7,
   "id": "9cb5833c",
   "metadata": {},
   "outputs": [
    {
     "name": "stdout",
     "output_type": "stream",
     "text": [
      "     ord no  purch_amt   ord date  customer id  salesman id\n",
      "0       NaN     270.65 2012-09-10         3001      5003.00\n",
      "1   70002.0      65.26        NaT         3001      5001.00\n",
      "2   70004.0     110.50 2012-08-17         3003          NaN\n",
      "3       NaN     948.50 2012-09-10         3002      5002.00\n",
      "4   70005.0    2400.60 2012-07-27         3001      5001.00\n",
      "5       NaN    5760.00 2012-09-10         3001      5001.00\n",
      "6   70010.0    1983.43 2012-10-10         3004          NaN\n",
      "7   70003.0    2480.40 2012-10-10         3003      5003.00\n",
      "8   70012.0     250.45 2012-06-27         3002      5002.00\n",
      "9       NaN      75.29 2012-08-17         3001      5003.00\n",
      "10      NaN     270.65 2012-09-10         3001      5003.00\n",
      "11  70002.0      65.26        NaT         3001      5001.01\n",
      "12  70004.0     110.50 2012-08-17         3003          NaN\n",
      "13      NaN     948.50 2012-09-10         3002      5002.00\n",
      "14  70006.0    2400.60 2012-07-27         3001      5001.00\n",
      "15      NaN    5760.00 2012-09-10         3001      5001.00\n",
      "16  70009.0    1983.43 2012-10-10         3004          NaN\n",
      "17  70008.0    2480.40 2012-10-10         3003      5003.00\n",
      "18  70011.0     250.45 2012-06-27         3002      5002.00\n",
      "19      NaN      75.29 2012-08-17         3001      5003.00\n",
      "20  70013.0    3045.60 2012-04-25         3001          NaN\n",
      "21  70007.0     150.50 2012-10-05         3002      5002.00\n"
     ]
    }
   ],
   "source": [
    "print(data)"
   ]
  },
  {
   "cell_type": "code",
   "execution_count": null,
   "id": "b4c27534",
   "metadata": {},
   "outputs": [],
   "source": []
  }
 ],
 "metadata": {
  "kernelspec": {
   "display_name": "Python 3 (ipykernel)",
   "language": "python",
   "name": "python3"
  },
  "language_info": {
   "codemirror_mode": {
    "name": "ipython",
    "version": 3
   },
   "file_extension": ".py",
   "mimetype": "text/x-python",
   "name": "python",
   "nbconvert_exporter": "python",
   "pygments_lexer": "ipython3",
   "version": "3.9.13"
  }
 },
 "nbformat": 4,
 "nbformat_minor": 5
}
